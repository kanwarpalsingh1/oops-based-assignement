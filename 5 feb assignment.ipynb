{
 "cells": [
  {
   "cell_type": "code",
   "execution_count": 1,
   "id": "0d603a1a-f002-461a-8450-373d42d0dff7",
   "metadata": {},
   "outputs": [
    {
     "name": "stdout",
     "output_type": "stream",
     "text": [
      "Brand: Toyota, Model: Camry, Year: 2022, Speed: 10 km/h\n",
      "Brand: Toyota, Model: Camry, Year: 2022, Speed: 20 km/h\n",
      "Brand: Toyota, Model: Camry, Year: 2022, Speed: 10 km/h\n"
     ]
    }
   ],
   "source": [
    "'''Q1. Explain Class and Object with respect to Object-Oriented Programming. Give a suitable example.'''\n",
    "class Car:\n",
    "    def __init__(self, brand, model, year):\n",
    "        self.brand = brand\n",
    "        self.model = model\n",
    "        self.year = year\n",
    "        self.speed = 0\n",
    "\n",
    "    def accelerate(self):\n",
    "        self.speed += 10\n",
    "\n",
    "    def brake(self):\n",
    "        if self.speed >= 10:\n",
    "            self.speed -= 10\n",
    "        else:\n",
    "            print(\"Car has stopped.\")\n",
    "\n",
    "    def display_info(self):\n",
    "        print(f\"Brand: {self.brand}, Model: {self.model}, Year: {self.year}, Speed: {self.speed} km/h\")\n",
    "\n",
    "# Creating an object (instance) of the Car class\n",
    "car1 = Car(\"Toyota\", \"Camry\", 2022)\n",
    "\n",
    "# Accessing attributes and methods of the car object\n",
    "car1.accelerate()\n",
    "car1.display_info()  # Output: Brand: Toyota, Model: Camry, Year: 2022, Speed: 10 km/h\n",
    "\n",
    "car1.accelerate()\n",
    "car1.display_info()  # Output: Brand: Toyota, Model: Camry, Year: 2022, Speed: 20 km/h\n",
    "\n",
    "car1.brake()\n",
    "car1.display_info() "
   ]
  },
  {
   "cell_type": "markdown",
   "id": "a1ca21e7-7538-46d8-96fa-fce350daacb8",
   "metadata": {},
   "source": [
    "'''Q2. Name the four pillars of OOPs.'''\n",
    "\n",
    "Encapsulation: Encapsulation is the bundling of data (attributes) and methods (behavior) that operate on the data into a single unit, called a class. It restricts access to the internal state of objects and only allows operations through well-defined interfaces. Encapsulation helps in hiding the implementation details and protects the integrity of the data.\n",
    "\n",
    "Abstraction: Abstraction is the concept of hiding the complex implementation details and showing only the essential features of an object. It allows the programmer to focus on what an object does rather than how it achieves it. Abstraction is achieved through abstract classes and interfaces, which define the structure and behavior of objects without providing the implementation.\n",
    "\n",
    "Inheritance: Inheritance is the mechanism by which a class can inherit properties (attributes and methods) from another class, called the superclass or base class. The class that inherits from the superclass is called the subclass or derived class. Inheritance promotes code reusability and allows the creation of a hierarchy of classes with shared behavior and attributes.\n",
    "\n",
    "Polymorphism: Polymorphism is the ability of an object to take on different forms or behaviors depending on the context. It allows objects of different classes to be treated as objects of a common superclass, thereby enabling a single interface to represent multiple types of objects. Polymorphism is achieved through method overriding (in the case of inheritance) and method overloading.\n",
    "\n",
    "\n",
    "\n",
    "\n"
   ]
  },
  {
   "cell_type": "code",
   "execution_count": 6,
   "id": "5dece8f2-5e10-4abe-a1eb-9c61d4982fe6",
   "metadata": {},
   "outputs": [
    {
     "name": "stdout",
     "output_type": "stream",
     "text": [
      "Name: Alice, Age: 18, Grade: A\n"
     ]
    }
   ],
   "source": [
    "'''Q3. Explain why the __init__() function is used. Give a suitable example.'''\n",
    "class Student:\n",
    "    def __init__(self, name, age, grade):\n",
    "        self.name = name\n",
    "        self.age = age\n",
    "        self.grade = grade\n",
    "\n",
    "    def display_info(self):\n",
    "        print(f\"Name: {self.name}, Age: {self.age}, Grade: {self.grade}\")\n",
    "\n",
    "# Creating an instance of the Student class\n",
    "student1 = Student(\"Alice\", 18, \"A\")\n",
    "\n",
    "# Accessing attributes and methods of the student object\n",
    "student1.display_info()"
   ]
  },
  {
   "cell_type": "code",
   "execution_count": null,
   "id": "b06dfcf1-dda5-43de-b64a-ad1280c6533c",
   "metadata": {},
   "outputs": [
    {
     "name": "stdout",
     "output_type": "stream",
     "text": [
      "Value: 5\n",
      "Value: 10\n"
     ]
    }
   ],
   "source": [
    "'''Q4. Why self is used in OOPs?'''\n",
    "class MyClass:\n",
    "    def __init__(self, value):\n",
    "        self.value = value\n",
    "\n",
    "    def display_value(self):\n",
    "        print(\"Value:\", self.value)\n",
    "\n",
    "    def update_value(self, new_value):\n",
    "        self.value = new_value\n",
    "\n",
    "# Creating an instance of MyClass\n",
    "obj = MyClass(5)\n",
    "\n",
    "# Accessing attributes and calling methods using the object\n",
    "obj.display_value()  # Output: Value: 5\n",
    "\n",
    "# Calling a method that updates the value attribute\n",
    "obj.update_value(10)\n",
    "\n",
    "# Displaying the updated value\n",
    "obj.display_value() "
   ]
  },
  {
   "cell_type": "code",
   "execution_count": 8,
   "id": "3703adfb-5af3-43f7-8459-01d46430890a",
   "metadata": {},
   "outputs": [
    {
     "name": "stdout",
     "output_type": "stream",
     "text": [
      "Animal speaks\n",
      "Method from class A\n",
      "Method from class B\n",
      "Animal speaks\n",
      "Animal speaks\n",
      "Animal speaks\n"
     ]
    }
   ],
   "source": [
    "'''User\n",
    "Q5. What is inheritance? Give an example for each type of inheritance.'''\n",
    "'''Single Inheritance: A subclass inherits from only one superclass.'''\n",
    "class Animal:\n",
    "    def speak(self):\n",
    "        print(\"Animal speaks\")\n",
    "\n",
    "# Subclass inheriting from Animal\n",
    "class Dog(Animal):\n",
    "    pass\n",
    "\n",
    "# Creating an instance of Dog\n",
    "dog = Dog()\n",
    "dog.speak()\n",
    "'''Multiple Inheritance: A subclass inherits from multiple superclasses.'''\n",
    "class A:\n",
    "    def method_A(self):\n",
    "        print(\"Method from class A\")\n",
    "\n",
    "# Second superclass\n",
    "class B:\n",
    "    def method_B(self):\n",
    "        print(\"Method from class B\")\n",
    "\n",
    "# Subclass inheriting from A and B\n",
    "class C(A, B):\n",
    "    pass\n",
    "\n",
    "# Creating an instance of C\n",
    "obj_C = C()\n",
    "obj_C.method_A()  # Output: Method from class A\n",
    "obj_C.method_B()\n",
    "'''Multilevel Inheritance: A subclass inherits from a superclass, and another subclass inherits from the first subclass, forming a chain of inheritance.'''\n",
    "class Animal:\n",
    "    def speak(self):\n",
    "        print(\"Animal speaks\")\n",
    "\n",
    "# Subclass inheriting from Animal\n",
    "class Dog(Animal):\n",
    "    pass\n",
    "\n",
    "# Subclass inheriting from Dog\n",
    "class Labrador(Dog):\n",
    "    pass\n",
    "\n",
    "# Creating an instance of Labrador\n",
    "labrador = Labrador()\n",
    "labrador.speak()\n",
    "'''Hierarchical Inheritance: Multiple subclasses inherit from the same superclass.'''\n",
    "class Animal:\n",
    "    def speak(self):\n",
    "        print(\"Animal speaks\")\n",
    "\n",
    "# First subclass inheriting from Animal\n",
    "class Dog(Animal):\n",
    "    pass\n",
    "\n",
    "# Second subclass inheriting from Animal\n",
    "class Cat(Animal):\n",
    "    pass\n",
    "\n",
    "# Creating an instance of Dog\n",
    "dog = Dog()\n",
    "dog.speak()  # Output: Animal speaks\n",
    "\n",
    "# Creating an instance of Cat\n",
    "cat = Cat()\n",
    "cat.speak()"
   ]
  },
  {
   "cell_type": "code",
   "execution_count": null,
   "id": "6a597784-7b8f-4d10-868b-ad026fe6d812",
   "metadata": {},
   "outputs": [],
   "source": []
  }
 ],
 "metadata": {
  "kernelspec": {
   "display_name": "Python 3 (ipykernel)",
   "language": "python",
   "name": "python3"
  },
  "language_info": {
   "codemirror_mode": {
    "name": "ipython",
    "version": 3
   },
   "file_extension": ".py",
   "mimetype": "text/x-python",
   "name": "python",
   "nbconvert_exporter": "python",
   "pygments_lexer": "ipython3",
   "version": "3.10.8"
  }
 },
 "nbformat": 4,
 "nbformat_minor": 5
}
